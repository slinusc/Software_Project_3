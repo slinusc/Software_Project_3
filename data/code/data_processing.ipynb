{
 "cells": [
  {
   "cell_type": "markdown",
   "source": [
    "There are some POIs that are not in Switzerland. We will delete them from the database by using the following function."
   ],
   "metadata": {
    "collapsed": false
   },
   "id": "b7f4372771364282"
  },
  {
   "cell_type": "code",
   "execution_count": 5,
   "outputs": [],
   "source": [
    "from pymongo import MongoClient\n",
    "\n",
    "client = MongoClient(\"mongodb://localhost:27017/\")\n",
    "db = client[\"data_base_OSM\"]\n",
    "collection = db[\"bicycle_amenities\"]"
   ],
   "metadata": {
    "collapsed": false,
    "ExecuteTime": {
     "end_time": "2023-11-17T16:41:35.596362400Z",
     "start_time": "2023-11-17T16:41:35.568163500Z"
    }
   },
   "id": "bf90498cc361d74a"
  },
  {
   "cell_type": "code",
   "execution_count": 17,
   "id": "initial_id",
   "metadata": {
    "collapsed": true,
    "ExecuteTime": {
     "end_time": "2023-11-17T16:55:15.160325500Z",
     "start_time": "2023-11-17T16:55:15.062810800Z"
    }
   },
   "outputs": [
    {
     "name": "stdout",
     "output_type": "stream",
     "text": [
      "Deleted documents with canton '['Baden-Württemberg', 'Vorarlberg', 'Trentino-Alto Adige/Südtirol', 'Lombardia', 'Auvergne-Rhône-Alpes', 'No canton found', 'Grand Est', 'Bourgogne-Franche-Comté', \"Valle d'Aosta / Vallée d'Aoste\"]'\n"
     ]
    }
   ],
   "source": [
    "wrong_POIs = [\"Baden-Württemberg\", \"Vorarlberg\", \"Trentino-Alto Adige/Südtirol\", \"Lombardia\", \"Auvergne-Rhône-Alpes\",\n",
    "              \"No canton found\", \"Grand Est\", \"Bourgogne-Franche-Comté\", \"Valle d'Aosta / Vallée d'Aoste\", \"Piemonte\"]\n",
    "\n",
    "\n",
    "def delete_wrong_POIs(wrong_POIs):\n",
    "    collection.delete_many({\"node.canton\": {\"$in\": wrong_POIs}})\n",
    "    print(f\"Deleted documents with canton '{wrong_POIs}'\")\n",
    "\n",
    "delete_wrong_POIs(wrong_POIs)"
   ]
  },
  {
   "cell_type": "code",
   "execution_count": 18,
   "outputs": [
    {
     "name": "stdout",
     "output_type": "stream",
     "text": [
      "Count of documents with canton 'Baden-Württemberg': 0\n",
      "Count of documents with canton 'Vorarlberg': 0\n",
      "Count of documents with canton 'Trentino-Alto Adige/Südtirol': 0\n",
      "Count of documents with canton 'Lombardia': 0\n",
      "Count of documents with canton 'Auvergne-Rhône-Alpes': 0\n",
      "Count of documents with canton 'No canton found': 0\n",
      "Count of documents with canton 'Grand Est': 0\n",
      "Count of documents with canton 'Bourgogne-Franche-Comté': 0\n",
      "Count of documents with canton 'Valle d'Aosta / Vallée d'Aoste': 0\n"
     ]
    }
   ],
   "source": [
    "def check_wrong_POIs(wrong_POIs):\n",
    "    for wrong_POI in wrong_POIs:\n",
    "        count = collection.count_documents({\"node.canton\": {\"$in\": wrong_POIs}})\n",
    "        print(f\"Count of documents with canton '{wrong_POI}': {count}\")\n",
    "\n",
    "check_wrong_POIs(wrong_POIs)"
   ],
   "metadata": {
    "collapsed": false,
    "ExecuteTime": {
     "end_time": "2023-11-17T16:55:19.720958Z",
     "start_time": "2023-11-17T16:55:19.396212500Z"
    }
   },
   "id": "567d585654851470"
  },
  {
   "cell_type": "markdown",
   "source": [
    "The cantons with french or italian names will be translated to german."
   ],
   "metadata": {
    "collapsed": false
   },
   "id": "574234028a628d35"
  },
  {
   "cell_type": "code",
   "execution_count": 25,
   "outputs": [
    {
     "name": "stdout",
     "output_type": "stream",
     "text": [
      "Updated documents with canton 'Vaud' to 'Waadt'\n",
      "Updated documents with canton 'Graubünden/Grischun/Grigioni' to 'Graubünden'\n",
      "Updated documents with canton 'Bern/Berne' to 'Bern'\n",
      "Updated documents with canton 'Valais/Wallis' to 'Wallis'\n",
      "Updated documents with canton 'Neuchâtel' to 'Neuenburg'\n",
      "Updated documents with canton 'Ticino' to 'Tessin'\n",
      "Updated documents with canton 'Genève' to 'Genf'\n",
      "Updated documents with canton 'Fribourg/Freiburg' to 'Freiburg'\n"
     ]
    }
   ],
   "source": [
    "canton_translation = {\n",
    "    \"Vaud\": \"Waadt\",\n",
    "    \"Graubünden/Grischun/Grigioni\": \"Graubünden\",\n",
    "    \"Bern/Berne\": \"Bern\",\n",
    "    \"Valais/Wallis\": \"Wallis\",\n",
    "    \"Neuchâtel\": \"Neuenburg\",\n",
    "    \"Ticino\": \"Tessin\",\n",
    "    \"Genève\": \"Genf\",\n",
    "    \"Fribourg/Freiburg\": \"Freiburg\"\n",
    "}\n",
    "\n",
    "def translate_canton(canton_translation):\n",
    "    for key, value in canton_translation.items():\n",
    "        collection.update_many({\"node.canton\": key}, {\"$set\": {\"node.canton\": value}})\n",
    "        print(f\"Updated documents with canton '{key}' to '{value}'\")\n",
    "        \n",
    "translate_canton(canton_translation)"
   ],
   "metadata": {
    "collapsed": false,
    "ExecuteTime": {
     "end_time": "2023-11-17T17:06:07.964012300Z",
     "start_time": "2023-11-17T17:06:07.346092800Z"
    }
   },
   "id": "900763e3ce556531"
  }
 ],
 "metadata": {
  "kernelspec": {
   "display_name": "Python 3",
   "language": "python",
   "name": "python3"
  },
  "language_info": {
   "codemirror_mode": {
    "name": "ipython",
    "version": 2
   },
   "file_extension": ".py",
   "mimetype": "text/x-python",
   "name": "python",
   "nbconvert_exporter": "python",
   "pygments_lexer": "ipython2",
   "version": "2.7.6"
  }
 },
 "nbformat": 4,
 "nbformat_minor": 5
}
